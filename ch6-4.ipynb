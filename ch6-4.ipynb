{
 "cells": [
  {
   "cell_type": "code",
   "execution_count": 3,
   "metadata": {},
   "outputs": [
    {
     "name": "stdout",
     "output_type": "stream",
     "text": [
      "데이터 로드...\n",
      "25000 훈련 시퀀스\n",
      "25000 테스트 시퀀스\n",
      "시퀀스 패딩 (samples x time)\n",
      "x_train 크기: (25000, 500)\n",
      "x_test 크기: (25000, 500)\n"
     ]
    }
   ],
   "source": [
    "# 컨브넷을 사용한 시퀀스 처리\n",
    "# 1D 컨브넷 구현\n",
    "from keras.datasets import imdb\n",
    "from keras.preprocessing import sequence\n",
    "\n",
    "max_features = 10000\n",
    "max_len = 500\n",
    "\n",
    "print('데이터 로드...')\n",
    "(x_train, y_train), (x_test, y_test) = imdb.load_data(num_words=max_features)\n",
    "print(len(x_train), '훈련 시퀀스')\n",
    "print(len(x_test), '테스트 시퀀스')\n",
    "\n",
    "print('시퀀스 패딩 (samples x time)')\n",
    "x_train = sequence.pad_sequences(x_train, maxlen=max_len)\n",
    "x_test = sequence.pad_sequences(x_test, maxlen=max_len)\n",
    "print('x_train 크기:', x_train.shape)\n",
    "print('x_test 크기:', x_test.shape)"
   ]
  },
  {
   "cell_type": "code",
   "execution_count": 4,
   "metadata": {},
   "outputs": [
    {
     "name": "stdout",
     "output_type": "stream",
     "text": [
      "_________________________________________________________________\n",
      "Layer (type)                 Output Shape              Param #   \n",
      "=================================================================\n",
      "embedding_1 (Embedding)      (None, 500, 128)          1280000   \n",
      "_________________________________________________________________\n",
      "conv1d_1 (Conv1D)            (None, 494, 32)           28704     \n",
      "_________________________________________________________________\n",
      "max_pooling1d_1 (MaxPooling1 (None, 98, 32)            0         \n",
      "_________________________________________________________________\n",
      "conv1d_2 (Conv1D)            (None, 92, 32)            7200      \n",
      "_________________________________________________________________\n",
      "global_max_pooling1d_1 (Glob (None, 32)                0         \n",
      "_________________________________________________________________\n",
      "dense_1 (Dense)              (None, 1)                 33        \n",
      "=================================================================\n",
      "Total params: 1,315,937\n",
      "Trainable params: 1,315,937\n",
      "Non-trainable params: 0\n",
      "_________________________________________________________________\n",
      "Train on 20000 samples, validate on 5000 samples\n",
      "Epoch 1/10\n",
      "20000/20000 [==============================] - 91s 5ms/step - loss: 0.8337 - acc: 0.5091 - val_loss: 0.6874 - val_acc: 0.5668\n",
      "Epoch 2/10\n",
      "20000/20000 [==============================] - 73s 4ms/step - loss: 0.6700 - acc: 0.6390 - val_loss: 0.6642 - val_acc: 0.6580\n",
      "Epoch 3/10\n",
      "20000/20000 [==============================] - 60s 3ms/step - loss: 0.6234 - acc: 0.7534 - val_loss: 0.6076 - val_acc: 0.7434\n",
      "Epoch 4/10\n",
      "20000/20000 [==============================] - 60s 3ms/step - loss: 0.5251 - acc: 0.8082 - val_loss: 0.4818 - val_acc: 0.8062\n",
      "Epoch 5/10\n",
      "20000/20000 [==============================] - 58s 3ms/step - loss: 0.4088 - acc: 0.8490 - val_loss: 0.4216 - val_acc: 0.8320\n",
      "Epoch 6/10\n",
      "20000/20000 [==============================] - 88s 4ms/step - loss: 0.3480 - acc: 0.8674 - val_loss: 0.4157 - val_acc: 0.8378\n",
      "Epoch 7/10\n",
      "20000/20000 [==============================] - 99s 5ms/step - loss: 0.3075 - acc: 0.8686 - val_loss: 0.4399 - val_acc: 0.8232\n",
      "Epoch 8/10\n",
      "20000/20000 [==============================] - 97s 5ms/step - loss: 0.2812 - acc: 0.8567 - val_loss: 0.4278 - val_acc: 0.8046\n",
      "Epoch 9/10\n",
      "20000/20000 [==============================] - 109s 5ms/step - loss: 0.2540 - acc: 0.8316 - val_loss: 0.4396 - val_acc: 0.7880\n",
      "Epoch 10/10\n",
      "20000/20000 [==============================] - 108s 5ms/step - loss: 0.2294 - acc: 0.8071 - val_loss: 0.5020 - val_acc: 0.7518\n"
     ]
    }
   ],
   "source": [
    "# imdb 데이터에 1D 컨브넷을 훈련하고 평가하기\n",
    "from keras.models import Sequential\n",
    "from keras import layers\n",
    "from keras.optimizers import RMSprop\n",
    "\n",
    "model = Sequential()\n",
    "model.add(layers.Embedding(max_features, 128, input_length=max_len))\n",
    "model.add(layers.Conv1D(32, 7, activation='relu'))\n",
    "model.add(layers.MaxPooling1D(5))\n",
    "model.add(layers.Conv1D(32, 7, activation='relu'))\n",
    "model.add(layers.GlobalMaxPooling1D())\n",
    "model.add(layers.Dense(1))\n",
    "\n",
    "model.summary()\n",
    "\n",
    "model.compile(optimizer=RMSprop(lr=1e-4),\n",
    "             loss='binary_crossentropy',\n",
    "             metrics=['acc'])\n",
    "history = model.fit(x_train, y_train,\n",
    "                   epochs=10,\n",
    "                   batch_size=128,\n",
    "                   validation_split=0.2)"
   ]
  },
  {
   "cell_type": "code",
   "execution_count": 7,
   "metadata": {},
   "outputs": [
    {
     "data": {
      "image/png": "[encoded data removed]",
      "text/plain": [
       "<Figure size 432x288 with 1 Axes>"
      ]
     },
     "metadata": {},
     "output_type": "display_data"
    }
   ],
   "source": [
    "from matplotlib import pyplot as plt\n",
    "\n",
    "loss = history.history['loss']\n",
    "val_loss = history.history['val_loss']\n",
    "\n",
    "epochs = range(1, len(loss) + 1)\n",
    "\n",
    "plt.figure()\n",
    "plt.plot(epochs, loss, 'bo', label='Training loss')\n",
    "plt.plot(epochs, val_loss, 'b', label='Validation loss')\n",
    "plt.title('Training and validation loss')\n",
    "plt.legend()\n",
    "\n",
    "plt.show()"
   ]
  },
  {
   "cell_type": "code",
   "execution_count": 9,
   "metadata": {},
   "outputs": [
    {
     "data": {
      "image/png": "[encoded data removed]",
      "text/plain": [
       "<Figure size 432x288 with 1 Axes>"
      ]
     },
     "metadata": {},
     "output_type": "display_data"
    }
   ],
   "source": [
    "acc = history.history['acc']\n",
    "val_acc = history.history['val_acc']\n",
    "\n",
    "epochs = range(1, len(loss) + 1)\n",
    "\n",
    "plt.figure()\n",
    "plt.plot(epochs, acc, 'bo', label='Training acc')\n",
    "plt.plot(epochs, val_acc, 'b', label='Validation acc')\n",
    "plt.title('Training and validation acc')\n",
    "plt.legend()\n",
    "\n",
    "plt.show()"
   ]
  },
  {
   "cell_type": "code",
   "execution_count": 11,
   "metadata": {},
   "outputs": [],
   "source": [
    "import os\n",
    "\n",
    "data_dir = './datasets/jena_climate'\n",
    "fname = os.path.join(data_dir, 'jena_climate_2009_2016.csv')\n",
    "\n",
    "f = open(fname)\n",
    "data = f.read()\n",
    "f.close()\n",
    "\n",
    "lines = data.split('\\n')\n",
    "header = lines[0].split(',')\n",
    "lines = lines[1:]\n",
    "\n",
    "import numpy as np\n",
    "\n",
    "float_data = np.zeros((len(lines), len(header) - 1))\n",
    "for i, line in enumerate(lines):\n",
    "    values = [float(x) for x in line.split(',')[1:]]\n",
    "    float_data[i, :] = values\n",
    "    \n",
    "# 데이터 정규화\n",
    "mean = float_data[:200000].mean(axis=0)\n",
    "float_data -= mean\n",
    "std = float_data[:200000].std(axis=0)\n",
    "float_data /= std\n",
    "\n",
    "def generator(data, lookback, delay, min_index, max_index, shuffle=False, batch_size=128, step=6):\n",
    "    if max_index is None:\n",
    "        max_index = len(data) - delay - 1\n",
    "    i = min_index + lookback\n",
    "    while 1:\n",
    "        if shuffle:\n",
    "            rows = np.random.randint(min_index + lookback, max_index, size=batch_size)\n",
    "        else:\n",
    "            if i + batch_size >= max_index:\n",
    "                i = min_index + lookback\n",
    "            rows = np.arange(i, min(i + batch_size, max_index))\n",
    "            i += len(rows)\n",
    "            \n",
    "        samples = np.zeros((len(rows), lookback // step, data.shape[-1]))\n",
    "        targets = np.zeros((len(rows), ))\n",
    "        for j, row in enumerate(rows):\n",
    "            indices = range(rows[j] - lookback, rows[j], step)\n",
    "            samples[j] = data[indices]\n",
    "            targets[j] = data[rows[j] + delay][1]\n",
    "        yield samples, targets\n",
    "        \n",
    "lookback = 1440\n",
    "step = 6\n",
    "delay = 144\n",
    "batch_size = 128\n",
    "train_gen = generator(float_data,\n",
    "                     lookback=lookback,\n",
    "                     delay=delay,\n",
    "                     min_index=0,\n",
    "                     max_index=200000,\n",
    "                     shuffle=True,\n",
    "                     step=step,\n",
    "                     batch_size=batch_size)\n",
    "\n",
    "val_gen = generator(float_data,\n",
    "                     lookback=lookback,\n",
    "                     delay=delay,\n",
    "                     min_index=200001,\n",
    "                     max_index=300000,\n",
    "                     step=step,\n",
    "                     batch_size=batch_size)\n",
    "\n",
    "test_gen = generator(float_data,\n",
    "                     lookback=lookback,\n",
    "                     delay=delay,\n",
    "                     min_index=300001,\n",
    "                     max_index=None,\n",
    "                     step=step,\n",
    "                     batch_size=batch_size)\n",
    "\n",
    "val_steps = (300000 - 200001 - lookback) // batch_size # 전체 검증 세트를 순회하기 위해 val_gen에서 추출할 횟수\n",
    "test_step = (len(float_data) - 300001 - lookback) // batch_size # 전체 테스트 세트를 순회하기 위해 test_gen에서 추출할 횟수"
   ]
  },
  {
   "cell_type": "code",
   "execution_count": 15,
   "metadata": {},
   "outputs": [
    {
     "data": {
      "text/plain": [
       "930"
      ]
     },
     "execution_count": 15,
     "metadata": {},
     "output_type": "execute_result"
    }
   ],
   "source": [
    "test_step"
   ]
  },
  {
   "cell_type": "code",
   "execution_count": 16,
   "metadata": {},
   "outputs": [
    {
     "name": "stdout",
     "output_type": "stream",
     "text": [
      "_________________________________________________________________\n",
      "Layer (type)                 Output Shape              Param #   \n",
      "=================================================================\n",
      "conv1d_6 (Conv1D)            (None, None, 32)          2272      \n",
      "_________________________________________________________________\n",
      "max_pooling1d_4 (MaxPooling1 (None, None, 32)          0         \n",
      "_________________________________________________________________\n",
      "conv1d_7 (Conv1D)            (None, None, 32)          5152      \n",
      "_________________________________________________________________\n",
      "max_pooling1d_5 (MaxPooling1 (None, None, 32)          0         \n",
      "_________________________________________________________________\n",
      "conv1d_8 (Conv1D)            (None, None, 32)          5152      \n",
      "_________________________________________________________________\n",
      "global_max_pooling1d_3 (Glob (None, 32)                0         \n",
      "_________________________________________________________________\n",
      "dense_3 (Dense)              (None, 1)                 33        \n",
      "=================================================================\n",
      "Total params: 12,609\n",
      "Trainable params: 12,609\n",
      "Non-trainable params: 0\n",
      "_________________________________________________________________\n",
      "Epoch 1/20\n",
      "500/500 [==============================] - 35s 70ms/step - loss: 0.4135 - val_loss: 0.4358\n",
      "Epoch 2/20\n",
      "500/500 [==============================] - 33s 65ms/step - loss: 0.3572 - val_loss: 0.4397\n",
      "Epoch 3/20\n",
      "500/500 [==============================] - 35s 70ms/step - loss: 0.3339 - val_loss: 0.4615\n",
      "Epoch 4/20\n",
      "500/500 [==============================] - 37s 73ms/step - loss: 0.3197 - val_loss: 0.4485\n",
      "Epoch 5/20\n",
      "500/500 [==============================] - 33s 65ms/step - loss: 0.3053 - val_loss: 0.4455\n",
      "Epoch 6/20\n",
      "500/500 [==============================] - 32s 65ms/step - loss: 0.2971 - val_loss: 0.4339\n",
      "Epoch 7/20\n",
      "500/500 [==============================] - 34s 68ms/step - loss: 0.2870 - val_loss: 0.5117\n",
      "Epoch 8/20\n",
      "500/500 [==============================] - 33s 66ms/step - loss: 0.2803 - val_loss: 0.4734\n",
      "Epoch 9/20\n",
      "500/500 [==============================] - 34s 68ms/step - loss: 0.2740 - val_loss: 0.4549\n",
      "Epoch 10/20\n",
      "500/500 [==============================] - 35s 69ms/step - loss: 0.2700 - val_loss: 0.4586\n",
      "Epoch 11/20\n",
      "500/500 [==============================] - 33s 65ms/step - loss: 0.2654 - val_loss: 0.4832\n",
      "Epoch 12/20\n",
      "500/500 [==============================] - 35s 69ms/step - loss: 0.2622 - val_loss: 0.4775\n",
      "Epoch 13/20\n",
      "500/500 [==============================] - 36s 72ms/step - loss: 0.2580 - val_loss: 0.4855\n",
      "Epoch 14/20\n",
      "500/500 [==============================] - 33s 66ms/step - loss: 0.2548 - val_loss: 0.4645\n",
      "Epoch 15/20\n",
      "500/500 [==============================] - 33s 66ms/step - loss: 0.2511 - val_loss: 0.4582\n",
      "Epoch 16/20\n",
      "500/500 [==============================] - 35s 70ms/step - loss: 0.2482 - val_loss: 0.4593\n",
      "Epoch 17/20\n",
      "500/500 [==============================] - 33s 66ms/step - loss: 0.2447 - val_loss: 0.5122\n",
      "Epoch 18/20\n",
      "500/500 [==============================] - 33s 65ms/step - loss: 0.2439 - val_loss: 0.4521\n",
      "Epoch 19/20\n",
      "500/500 [==============================] - 34s 67ms/step - loss: 0.2406 - val_loss: 0.4774\n",
      "Epoch 20/20\n",
      "500/500 [==============================] - 33s 67ms/step - loss: 0.2399 - val_loss: 0.4616\n"
     ]
    }
   ],
   "source": [
    "# CNN과 RNN을 연결하여 긴 시퀀스를 처리\n",
    "\n",
    "# 예나 데이터에서 1D 컨브넷을 훈련하고 평가하기\n",
    "model = Sequential()\n",
    "model.add(layers.Conv1D(32, 5, activation='relu', input_shape=(None, float_data.shape[-1])))\n",
    "model.add(layers.MaxPooling1D(3))\n",
    "model.add(layers.Conv1D(32, 5, activation='relu'))\n",
    "model.add(layers.MaxPooling1D(3))\n",
    "model.add(layers.Conv1D(32, 5, activation='relu'))\n",
    "model.add(layers.GlobalMaxPooling1D())\n",
    "model.add(layers.Dense(1))\n",
    "\n",
    "model.summary()\n",
    "\n",
    "model.compile(optimizer=RMSprop(), loss='mae')\n",
    "history = model.fit_generator(train_gen,\n",
    "                    steps_per_epoch=500,\n",
    "                   epochs=20,\n",
    "                   validation_data=val_gen,\n",
    "                   validation_steps=val_steps)"
   ]
  },
  {
   "cell_type": "code",
   "execution_count": 18,
   "metadata": {},
   "outputs": [
    {
     "data": {
      "image/png": "[encoded data removed]",
      "text/plain": [
       "<Figure size 432x288 with 1 Axes>"
      ]
     },
     "metadata": {},
     "output_type": "display_data"
    }
   ],
   "source": [
    "loss = history.history['loss']\n",
    "val_loss = history.history['val_loss']\n",
    "\n",
    "epochs = range(1, len(loss) + 1)\n",
    "\n",
    "plt.figure()\n",
    "plt.plot(epochs, loss, 'bo', label='Training loss')\n",
    "plt.plot(epochs, val_loss, 'b', label='Validation loss')\n",
    "plt.title('Training and validation loss')\n",
    "plt.legend()\n",
    "\n",
    "plt.show()"
   ]
  },
  {
   "cell_type": "code",
   "execution_count": 19,
   "metadata": {},
   "outputs": [],
   "source": [
    "# 고밀도 데이터 제너레이터로 예나 데이터셋 준비\n",
    "step = 3 # 이전에는 6이었고(시간마다 1 포인트), 이제는 3 (30분마다 1포인트)\n",
    "lookback = 1440\n",
    "delay = 144\n",
    "\n",
    "train_gen = generator(float_data,\n",
    "                     lookback=lookback,\n",
    "                     delay=delay,\n",
    "                     min_index=0,\n",
    "                     max_index=200000,\n",
    "                     shuffle=True,\n",
    "                     step=step)\n",
    "\n",
    "val_gen = generator(float_data,\n",
    "                     lookback=lookback,\n",
    "                     delay=delay,\n",
    "                     min_index=200001,\n",
    "                     max_index=300000,\n",
    "                     step=step)\n",
    "\n",
    "test_gen = generator(float_data,\n",
    "                     lookback=lookback,\n",
    "                     delay=delay,\n",
    "                     min_index=300001,\n",
    "                     max_index=None,\n",
    "                     step=step)\n",
    "\n",
    "val_steps = (300000 - 200001 - lookback) // 128\n",
    "test_step = (len(float_data) - 300001 - lookback) // 128"
   ]
  },
  {
   "cell_type": "code",
   "execution_count": 20,
   "metadata": {},
   "outputs": [
    {
     "name": "stdout",
     "output_type": "stream",
     "text": [
      "_________________________________________________________________\n",
      "Layer (type)                 Output Shape              Param #   \n",
      "=================================================================\n",
      "conv1d_9 (Conv1D)            (None, None, 32)          2272      \n",
      "_________________________________________________________________\n",
      "max_pooling1d_6 (MaxPooling1 (None, None, 32)          0         \n",
      "_________________________________________________________________\n",
      "conv1d_10 (Conv1D)           (None, None, 32)          5152      \n",
      "_________________________________________________________________\n",
      "gru_1 (GRU)                  (None, 32)                6240      \n",
      "_________________________________________________________________\n",
      "dense_4 (Dense)              (None, 1)                 33        \n",
      "=================================================================\n",
      "Total params: 13,697\n",
      "Trainable params: 13,697\n",
      "Non-trainable params: 0\n",
      "_________________________________________________________________\n",
      "Epoch 1/20\n",
      "500/500 [==============================] - 125s 251ms/step - loss: 0.3373 - val_loss: 0.2812\n",
      "Epoch 2/20\n",
      "500/500 [==============================] - 137s 273ms/step - loss: 0.3067 - val_loss: 0.2787\n",
      "Epoch 3/20\n",
      "500/500 [==============================] - 150s 299ms/step - loss: 0.2932 - val_loss: 0.2728\n",
      "Epoch 4/20\n",
      "500/500 [==============================] - 143s 286ms/step - loss: 0.2856 - val_loss: 0.2746\n",
      "Epoch 5/20\n",
      "500/500 [==============================] - 147s 294ms/step - loss: 0.2796 - val_loss: 0.2731\n",
      "Epoch 6/20\n",
      "500/500 [==============================] - 122s 243ms/step - loss: 0.2761 - val_loss: 0.2736\n",
      "Epoch 7/20\n",
      "500/500 [==============================] - 120s 240ms/step - loss: 0.2701 - val_loss: 0.2693\n",
      "Epoch 8/20\n",
      "500/500 [==============================] - 126s 253ms/step - loss: 0.2628 - val_loss: 0.2742\n",
      "Epoch 9/20\n",
      "500/500 [==============================] - 121s 242ms/step - loss: 0.2592 - val_loss: 0.2733\n",
      "Epoch 10/20\n",
      "500/500 [==============================] - 119s 237ms/step - loss: 0.2566 - val_loss: 0.2787\n",
      "Epoch 11/20\n",
      "500/500 [==============================] - 118s 236ms/step - loss: 0.2516 - val_loss: 0.2791\n",
      "Epoch 12/20\n",
      "500/500 [==============================] - 120s 240ms/step - loss: 0.2459 - val_loss: 0.2830\n",
      "Epoch 13/20\n",
      "500/500 [==============================] - 118s 237ms/step - loss: 0.2448 - val_loss: 0.2890\n",
      "Epoch 14/20\n",
      "500/500 [==============================] - 119s 238ms/step - loss: 0.2417 - val_loss: 0.2917\n",
      "Epoch 15/20\n",
      "500/500 [==============================] - 116s 232ms/step - loss: 0.2375 - val_loss: 0.2922\n",
      "Epoch 16/20\n",
      "500/500 [==============================] - 116s 232ms/step - loss: 0.2352 - val_loss: 0.2961\n",
      "Epoch 17/20\n",
      "500/500 [==============================] - 116s 232ms/step - loss: 0.2324 - val_loss: 0.2937\n",
      "Epoch 18/20\n",
      "500/500 [==============================] - 116s 233ms/step - loss: 0.2289 - val_loss: 0.2941\n",
      "Epoch 19/20\n",
      "500/500 [==============================] - 118s 235ms/step - loss: 0.2272 - val_loss: 0.2958\n",
      "Epoch 20/20\n",
      "500/500 [==============================] - 119s 238ms/step - loss: 0.2240 - val_loss: 0.2964\n"
     ]
    }
   ],
   "source": [
    "# 1D 합성곱과 GRU 층을 연결한 모델\n",
    "model = Sequential()\n",
    "model.add(layers.Conv1D(32, 5, activation='relu', input_shape=(None, float_data.shape[-1])))\n",
    "model.add(layers.MaxPooling1D(3))\n",
    "model.add(layers.Conv1D(32, 5, activation='relu'))\n",
    "model.add(layers.GRU(32, dropout=0.1, recurrent_dropout=0.5))\n",
    "model.add(layers.Dense(1))\n",
    "\n",
    "model.summary()\n",
    "\n",
    "model.compile(optimizer=RMSprop(), loss='mae')\n",
    "history = model.fit_generator(train_gen,\n",
    "                    steps_per_epoch=500,\n",
    "                   epochs=20,\n",
    "                   validation_data=val_gen,\n",
    "                   validation_steps=val_steps)"
   ]
  },
  {
   "cell_type": "code",
   "execution_count": 22,
   "metadata": {},
   "outputs": [
    {
     "data": {
      "text/plain": [
       "{'val_loss': [0.2811503443716794,\n",
       "  0.2787465314212484,\n",
       "  0.2728467786125112,\n",
       "  0.27455119205389283,\n",
       "  0.27305142112047215,\n",
       "  0.2735629549639975,\n",
       "  0.26925085431209467,\n",
       "  0.27416517237693033,\n",
       "  0.2732903001580499,\n",
       "  0.27866721138726286,\n",
       "  0.27911635305156013,\n",
       "  0.28298140148618905,\n",
       "  0.28902729836102425,\n",
       "  0.2917037549899753,\n",
       "  0.29218383190090075,\n",
       "  0.2961304662906612,\n",
       "  0.2936718030911428,\n",
       "  0.29412550871564447,\n",
       "  0.295831473222092,\n",
       "  0.2964223832357069],\n",
       " 'loss': [0.3373049458861351,\n",
       "  0.30669041338562963,\n",
       "  0.29323636493086813,\n",
       "  0.2855601952970028,\n",
       "  0.2796489491164684,\n",
       "  0.2761356287896633,\n",
       "  0.2701239402592182,\n",
       "  0.2628207363188267,\n",
       "  0.25917701837420465,\n",
       "  0.25664437717199323,\n",
       "  0.25158245873451235,\n",
       "  0.24586433979868888,\n",
       "  0.24479117664694786,\n",
       "  0.24171979933977128,\n",
       "  0.23753513285517694,\n",
       "  0.23519864824414252,\n",
       "  0.23242873033881187,\n",
       "  0.22886386457085608,\n",
       "  0.22720410707592964,\n",
       "  0.22398805293440818]}"
      ]
     },
     "execution_count": 22,
     "metadata": {},
     "output_type": "execute_result"
    }
   ],
   "source": [
    "history.history"
   ]
  },
  {
   "cell_type": "code",
   "execution_count": 23,
   "metadata": {},
   "outputs": [
    {
     "data": {
      "image/png": "[encoded data removed]",
      "text/plain": [
       "<Figure size 432x288 with 1 Axes>"
      ]
     },
     "metadata": {},
     "output_type": "display_data"
    }
   ],
   "source": [
    "loss = history.history['loss']\n",
    "val_loss = history.history['val_loss']\n",
    "\n",
    "epochs = range(1, len(loss) + 1)\n",
    "\n",
    "plt.figure()\n",
    "plt.plot(epochs, loss, 'bo', label='Training loss')\n",
    "plt.plot(epochs, val_loss, 'b', label='Validation loss')\n",
    "plt.title('Training and validation loss')\n",
    "plt.legend()\n",
    "\n",
    "plt.show()"
   ]
  },
  {
   "cell_type": "code",
   "execution_count": null,
   "metadata": {},
   "outputs": [],
   "source": []
  }
 ],
 "metadata": {
  "kernelspec": {
   "display_name": "Python 3",
   "language": "python",
   "name": "python3"
  },
  "language_info": {
   "codemirror_mode": {
    "name": "ipython",
    "version": 3
   },
   "file_extension": ".py",
   "mimetype": "text/x-python",
   "name": "python",
   "nbconvert_exporter": "python",
   "pygments_lexer": "ipython3",
   "version": "3.6.3"
  }
 },
 "nbformat": 4,
 "nbformat_minor": 2
}
