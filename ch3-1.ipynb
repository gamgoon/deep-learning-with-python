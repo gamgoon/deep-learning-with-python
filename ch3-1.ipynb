{
 "cells": [
  {
   "cell_type": "markdown",
   "metadata": {},
   "source": [
    "### 손실 함수와 목적함수\n",
    "\n",
    "- 목적 함수를 현명하게 선택\n",
    "\n",
    "분류, 회귀와 시퀀스 예측 같은 일반적인 문제에서는 올바른 손실 함수를 선택하는 간단한 지침이 있다.\n",
    "\n",
    "- 2개의 클래스가 있는 분류 문제에는 이진 크로스엔트로피(binary crossentropy), 이진 분류를 위한 크로스엔트로피 손실을 로지스틱 손실(Logistic loss) 또는 로그 손실(Log loss)이라고도 부른다.\n",
    "- 여러 개의 클래스가 있는 분류 문제에는 범주형 크로스엔트로피(categorical crossentropy)\n",
    "- 회구 문제에는 평균 제곱 오차\n",
    "- 시퀀스 학습 문제에는 CTC(Connection Temporal Classification), 음성 인식이나 필기 인식처럼 입력에 레이블 할당 위치를 정하기 어려운 연속적인 시퀀스를 다루는 문제에 사용하는 손실 함수."
   ]
  },
  {
   "cell_type": "markdown",
   "metadata": {},
   "source": [
    "### 케라스의 특징\n",
    "\n",
    "- 동일한 코드로 CPU와 GPU에서 실행할 수 있다\n",
    "- 사용하기 쉬운 API로 딥러닝 모델의 프로토타입을 빠르게 만들 수 있다\n",
    "- 합성곱 신경망, 순환 신경망을 지원, 이 둘을 자유롭게 조합하여 사용할 수 있다\n",
    "- 다중 입력이나 다중 출력 모델, 층의 공유, 모델 공유 등 어떤 네트워크 구조도 만들 수 있다. 이 말은 적대적 생성 신경망(Generative Adversarial Network, GAN)부터 뉴럴 튜링 머신(Neural Tring Machine)까지 케라스는 기본적으로 어떤 딥러닝 모델에도 적합하다\n",
    "\n",
    "#### 케라스의 백엔드 엔진\n",
    "\n",
    "- 고수준의 구성 요소를 제공하는 모델 수준의 라이브러리\n",
    "- 텐서 조작이나 미분 같은 저수준의 연산은 다루지 않는다\n",
    "- 대신 백엔드 엔진(backend engine)에서 제공하는 최적화되고 특화된 텐서 라이브러리를 사용한다\n",
    "- 여러 가지 백엔드 엔진이 케라스와 매끄럽게 연동된다\n",
    "- 현재는 텐서플로, 씨아노, CNTK 를 사용 할 수 있고, MXNet도 추가될 가능성이 높다\n",
    "- 텐서플로\n",
    "    - CPU에서 실행될 때는 Eigen(http://eigen.tuxfamily.org)이라고 불리는 저수준 텐서 연산 라이브러리를 이용.\n",
    "    - GPU에서는 NVIDIA CUDA 심층 신경망 라이브러리(cuDNN)라고 불리는 고도로 최적화된 딥러닝 연산 라이브러리를 이용.\n",
    "\n",
    "#### 케라스로 모델 정의 방법\n",
    "\n",
    "- Sequential 클래스 (가장 자주 사용하는 구조인 층을 순서대로 쌓아 올린 네트워크)\n",
    "- 함수형 API (완전히 임의의 구조를 만들 수 있는 비순환 유향 그래프를 만듬)\n",
    "\n",
    "https://aws.amazon.com/ko/machine-learning/amis/"
   ]
  }
 ],
 "metadata": {
  "kernelspec": {
   "display_name": "Python 3",
   "language": "python",
   "name": "python3"
  },
  "language_info": {
   "codemirror_mode": {
    "name": "ipython",
    "version": 3
   },
   "file_extension": ".py",
   "mimetype": "text/x-python",
   "name": "python",
   "nbconvert_exporter": "python",
   "pygments_lexer": "ipython3",
   "version": "3.7.3"
  }
 },
 "nbformat": 4,
 "nbformat_minor": 2
}
